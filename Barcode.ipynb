{
  "cells": [
    {
      "cell_type": "code",
      "execution_count": null,
      "metadata": {
        "colab": {
          "base_uri": "https://localhost:8080/"
        },
        "id": "U753eAlvm2Tx",
        "outputId": "c74a8b5d-947d-482e-8650-731c6f82d3b0"
      },
      "outputs": [
        {
          "name": "stdout",
          "output_type": "stream",
          "text": [
            "Collecting python-barcode\n",
            "  Downloading python_barcode-0.15.1-py3-none-any.whl.metadata (2.3 kB)\n",
            "Downloading python_barcode-0.15.1-py3-none-any.whl (212 kB)\n",
            "\u001b[?25l   \u001b[90m━━━━━━━━━━━━━━━━━━━━━━━━━━━━━━━━━━━━━━━━\u001b[0m \u001b[32m0.0/213.0 kB\u001b[0m \u001b[31m?\u001b[0m eta \u001b[36m-:--:--\u001b[0m\r\u001b[2K   \u001b[90m━━━━━━━━━━━━━━━━━━━━━━━━━━━━━━━━━━━━━━━━\u001b[0m \u001b[32m213.0/213.0 kB\u001b[0m \u001b[31m13.5 MB/s\u001b[0m eta \u001b[36m0:00:00\u001b[0m\n",
            "\u001b[?25hInstalling collected packages: python-barcode\n",
            "Successfully installed python-barcode-0.15.1\n"
          ]
        }
      ],
      "source": [
        "!pip install python-barcode"
      ]
    },
    {
      "cell_type": "code",
      "execution_count": null,
      "metadata": {
        "id": "WAr6MnkAn3bX"
      },
      "outputs": [],
      "source": [
        "import barcode"
      ]
    },
    {
      "cell_type": "code",
      "execution_count": null,
      "metadata": {
        "colab": {
          "base_uri": "https://localhost:8080/"
        },
        "id": "h_hRjsmroAuO",
        "outputId": "0b51a69a-57c2-4d28-dd1a-d78a18e48651"
      },
      "outputs": [
        {
          "name": "stdout",
          "output_type": "stream",
          "text": [
            "barcode generated.\n"
          ]
        }
      ],
      "source": [
        "from barcode import Code128\n",
        "def generate_barcode(data):\n",
        "  code=Code128(data)\n",
        "  code.save(\"barcode\")\n",
        "  print(\"barcode generated.\")\n",
        "data=\"1234-5678-9012\"\n",
        "generate_barcode(data)"
      ]
    }
  ],
  "metadata": {
    "colab": {
      "provenance": []
    },
    "kernelspec": {
      "display_name": "Python 3",
      "name": "python3"
    },
    "language_info": {
      "name": "python"
    }
  },
  "nbformat": 4,
  "nbformat_minor": 0
}
