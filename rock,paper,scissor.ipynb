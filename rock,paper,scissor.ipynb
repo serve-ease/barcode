{
  "nbformat": 4,
  "nbformat_minor": 0,
  "metadata": {
    "colab": {
      "provenance": []
    },
    "kernelspec": {
      "name": "python3",
      "display_name": "Python 3"
    },
    "language_info": {
      "name": "python"
    }
  },
  "cells": [
    {
      "cell_type": "code",
      "source": [
        "import random\n",
        "choices = [\"rock\", \"paper\", \"scissors\"]\n",
        "\n",
        "print(\" welcome to Rock, Paper, Scissors Game \")\n",
        "\n",
        "while True:\n",
        "    user = input(\"Choose rock, paper or scissors(or 'quit' to stop): \").lower()\n",
        "    if user == 'quit':\n",
        "        print(\"Thanks for playing!\")\n",
        "        break\n",
        "    if user not in choices:\n",
        "        print(\"Invalid choice. Try again!\")\n",
        "        continue\n",
        "\n",
        "    computer = random.choice(choices)\n",
        "    print(\"Computer chose:\", computer)\n",
        "\n",
        "    if user == computer:\n",
        "        print(\"It's a tie!\")\n",
        "    elif (user == \"rock\" and computer == \"scissors\") or \\\n",
        "         (user == \"paper\" and computer == \"rock\") or \\\n",
        "         (user == \"scissors\" and computer == \"paper\"):\n",
        "        print(\"You win!\")\n",
        "    else:\n",
        "        print(\"You lose!\")"
      ],
      "metadata": {
        "colab": {
          "base_uri": "https://localhost:8080/"
        },
        "id": "kMTkmYAmDkh-",
        "outputId": "98444226-2b55-4ca9-a339-5618a5fd6b1c"
      },
      "execution_count": null,
      "outputs": [
        {
          "output_type": "stream",
          "name": "stdout",
          "text": [
            " welcome to Rock, Paper, Scissors Game \n",
            "Choose rock, paper or scissors(or 'quit' to stop): scissors\n",
            "Computer chose: scissors\n",
            "It's a tie!\n",
            "Choose rock, paper or scissors(or 'quit' to stop): rock\n",
            "Computer chose: scissors\n",
            "You win!\n",
            "Choose rock, paper or scissors(or 'quit' to stop): paper\n",
            "Computer chose: rock\n",
            "You win!\n"
          ]
        }
      ]
    }
  ]
}